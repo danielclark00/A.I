version https://git-lfs.github.com/spec/v1
oid sha256:dd5cf953f1133cd8edc57b10790469865d36b3f6ecff3cd6f8b086480897b997
size 456008
